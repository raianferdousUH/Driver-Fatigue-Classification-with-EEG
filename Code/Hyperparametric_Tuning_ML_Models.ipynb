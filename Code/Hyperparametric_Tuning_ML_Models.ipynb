{
 "cells": [
  {
   "cell_type": "code",
   "execution_count": 1,
   "id": "f3188ea9",
   "metadata": {},
   "outputs": [],
   "source": [
    "import pandas as pd\n",
    "from sklearn import svm\n",
    "from sklearn.ensemble import RandomForestClassifier\n",
    "from sklearn.linear_model import LogisticRegression\n",
    "from sklearn.naive_bayes import GaussianNB\n",
    "from sklearn.naive_bayes import MultinomialNB\n",
    "from sklearn.tree import DecisionTreeClassifier\n",
    "from sklearn.discriminant_analysis import LinearDiscriminantAnalysis\n",
    "from sklearn.neighbors import KNeighborsClassifier"
   ]
  },
  {
   "cell_type": "code",
   "execution_count": 2,
   "id": "a63e7d99",
   "metadata": {},
   "outputs": [],
   "source": [
    "df=pd.read_csv(\"Avi_3 (Fz,F3,F4) Channels Data.csv\")\n",
    "#df=pd.read_csv(\"All Features Combined.csv\")\n",
    "df=df.drop(['Mode'],axis=1)\n",
    "\n",
    "#Normalization\n",
    "dataf=((df-df.min())/(df.max()-df.min()))\n",
    "X=dataf.drop(['Class'], axis = 1)\n",
    "y=dataf.Class"
   ]
  },
  {
   "cell_type": "code",
   "execution_count": 3,
   "id": "f336a4c1",
   "metadata": {},
   "outputs": [],
   "source": [
    "model_params = {\n",
    "    'svm': {\n",
    "             'model': svm.SVC(gamma='auto'),\n",
    "             'params' : {\n",
    "                          'C': [1,10,20],\n",
    "                          'kernel': ['rbf','linear','poly'],\n",
    "                          'gamma' : [0.0001, 0.001, 0.01, 0.1, 1]\n",
    "        }  \n",
    "    },\n",
    "    'random_forest': {\n",
    "                       'model': RandomForestClassifier(),\n",
    "                       'params' : {\n",
    "                                    'n_estimators': [5,10,25,50,100,150],\n",
    "                                    'criterion'   : [\"gini\",'entropy']\n",
    "\n",
    "        }\n",
    "    },\n",
    "    'logistic_regression' : {\n",
    "                              'model': LogisticRegression(multi_class='auto'),\n",
    "                              'params': {\n",
    "                                        'solver' : ['liblinear'],\n",
    "                                        'C'      : [100, 10, 1.0, 0.1, 0.01]\n",
    "        }\n",
    "    },\n",
    "    'LDA' : {\n",
    "                              'model': LinearDiscriminantAnalysis(),\n",
    "                              'params': {\n",
    "                                          'solver': ['svd','lsqr', 'eigen'],\n",
    "                                          'tol'   : [0.0001,0.0002,0.0003]\n",
    "        }\n",
    "    },\n",
    "    'KNN' : {\n",
    "                              'model': KNeighborsClassifier(),\n",
    "                              'params': {\n",
    "                                          'n_neighbors' : [5,7,9,11,13,15],\n",
    "                                          'weights'     : ['uniform','distance'],\n",
    "                                          'metric'      : ['minkowski','euclidean','manhattan']\n",
    "        }\n",
    "    },\n",
    "}\n",
    "\n",
    "\n"
   ]
  },
  {
   "cell_type": "code",
   "execution_count": 4,
   "id": "ea4582ed",
   "metadata": {},
   "outputs": [],
   "source": [
    "from sklearn.model_selection import GridSearchCV\n",
    "import pandas as pd\n",
    "scores = []\n",
    "\n",
    "for model_name, mp in model_params.items():\n",
    "    clf =  GridSearchCV(mp['model'], mp['params'], cv=5, return_train_score=False)\n",
    "    clf.fit(X, y)\n",
    "    scores.append({\n",
    "        'model': model_name,\n",
    "        'best_score': clf.best_score_,\n",
    "        'best_params': clf.best_params_\n",
    "    })"
   ]
  },
  {
   "cell_type": "code",
   "execution_count": 5,
   "id": "d580787f",
   "metadata": {},
   "outputs": [
    {
     "data": {
      "text/html": [
       "<div>\n",
       "<style scoped>\n",
       "    .dataframe tbody tr th:only-of-type {\n",
       "        vertical-align: middle;\n",
       "    }\n",
       "\n",
       "    .dataframe tbody tr th {\n",
       "        vertical-align: top;\n",
       "    }\n",
       "\n",
       "    .dataframe thead th {\n",
       "        text-align: right;\n",
       "    }\n",
       "</style>\n",
       "<table border=\"1\" class=\"dataframe\">\n",
       "  <thead>\n",
       "    <tr style=\"text-align: right;\">\n",
       "      <th></th>\n",
       "      <th>model</th>\n",
       "      <th>best_score</th>\n",
       "      <th>best_params</th>\n",
       "    </tr>\n",
       "  </thead>\n",
       "  <tbody>\n",
       "    <tr>\n",
       "      <th>0</th>\n",
       "      <td>svm</td>\n",
       "      <td>1.000000</td>\n",
       "      <td>{'C': 1, 'gamma': 1, 'kernel': 'poly'}</td>\n",
       "    </tr>\n",
       "    <tr>\n",
       "      <th>1</th>\n",
       "      <td>random_forest</td>\n",
       "      <td>1.000000</td>\n",
       "      <td>{'criterion': 'gini', 'n_estimators': 100}</td>\n",
       "    </tr>\n",
       "    <tr>\n",
       "      <th>2</th>\n",
       "      <td>logistic_regression</td>\n",
       "      <td>0.997222</td>\n",
       "      <td>{'C': 100, 'solver': 'liblinear'}</td>\n",
       "    </tr>\n",
       "    <tr>\n",
       "      <th>3</th>\n",
       "      <td>LDA</td>\n",
       "      <td>0.950000</td>\n",
       "      <td>{'solver': 'svd', 'tol': 0.0001}</td>\n",
       "    </tr>\n",
       "    <tr>\n",
       "      <th>4</th>\n",
       "      <td>KNN</td>\n",
       "      <td>1.000000</td>\n",
       "      <td>{'metric': 'minkowski', 'n_neighbors': 5, 'wei...</td>\n",
       "    </tr>\n",
       "  </tbody>\n",
       "</table>\n",
       "</div>"
      ],
      "text/plain": [
       "                 model  best_score  \\\n",
       "0                  svm    1.000000   \n",
       "1        random_forest    1.000000   \n",
       "2  logistic_regression    0.997222   \n",
       "3                  LDA    0.950000   \n",
       "4                  KNN    1.000000   \n",
       "\n",
       "                                         best_params  \n",
       "0             {'C': 1, 'gamma': 1, 'kernel': 'poly'}  \n",
       "1         {'criterion': 'gini', 'n_estimators': 100}  \n",
       "2                  {'C': 100, 'solver': 'liblinear'}  \n",
       "3                   {'solver': 'svd', 'tol': 0.0001}  \n",
       "4  {'metric': 'minkowski', 'n_neighbors': 5, 'wei...  "
      ]
     },
     "execution_count": 5,
     "metadata": {},
     "output_type": "execute_result"
    }
   ],
   "source": [
    "ndf = pd.DataFrame(scores,columns=['model','best_score','best_params'])\n",
    "ndf"
   ]
  },
  {
   "cell_type": "code",
   "execution_count": 6,
   "id": "33df3cd2",
   "metadata": {},
   "outputs": [
    {
     "data": {
      "text/plain": [
       "{'metric': 'minkowski', 'n_neighbors': 5, 'weights': 'distance'}"
      ]
     },
     "execution_count": 6,
     "metadata": {},
     "output_type": "execute_result"
    }
   ],
   "source": [
    "ndf.best_params[4]"
   ]
  },
  {
   "cell_type": "code",
   "execution_count": null,
   "id": "30242dc2",
   "metadata": {},
   "outputs": [],
   "source": []
  }
 ],
 "metadata": {
  "kernelspec": {
   "display_name": "Python 3 (ipykernel)",
   "language": "python",
   "name": "python3"
  },
  "language_info": {
   "codemirror_mode": {
    "name": "ipython",
    "version": 3
   },
   "file_extension": ".py",
   "mimetype": "text/x-python",
   "name": "python",
   "nbconvert_exporter": "python",
   "pygments_lexer": "ipython3",
   "version": "3.8.8"
  }
 },
 "nbformat": 4,
 "nbformat_minor": 5
}
